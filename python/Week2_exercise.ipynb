{
 "cells": [
  {
   "cell_type": "markdown",
   "id": "52f69ea5",
   "metadata": {},
   "source": [
    "# Week 2 Exercise: Gaussian and Central Limit Theorem"
   ]
  },
  {
   "cell_type": "code",
   "execution_count": 80,
   "id": "8eb091b4",
   "metadata": {},
   "outputs": [],
   "source": [
    "# import libraries\n",
    "import numpy as np\n",
    "import pandas as pd\n",
    "import matplotlib.pyplot as plt\n",
    "from scipy.stats import norm"
   ]
  },
  {
   "cell_type": "markdown",
   "id": "69323cc8",
   "metadata": {},
   "source": [
    "## Project 1\n",
    "Plot the histogram of annual mean temperature    \n",
    "    "
   ]
  },
  {
   "cell_type": "code",
   "execution_count": 12,
   "id": "b4d86d32",
   "metadata": {},
   "outputs": [
    {
     "data": {
      "text/html": [
       "<div>\n",
       "<style scoped>\n",
       "    .dataframe tbody tr th:only-of-type {\n",
       "        vertical-align: middle;\n",
       "    }\n",
       "\n",
       "    .dataframe tbody tr th {\n",
       "        vertical-align: top;\n",
       "    }\n",
       "\n",
       "    .dataframe thead th {\n",
       "        text-align: right;\n",
       "    }\n",
       "</style>\n",
       "<table border=\"1\" class=\"dataframe\">\n",
       "  <thead>\n",
       "    <tr style=\"text-align: right;\">\n",
       "      <th></th>\n",
       "      <th>Year</th>\n",
       "      <th>Jan</th>\n",
       "      <th>Feb</th>\n",
       "      <th>Mar</th>\n",
       "      <th>Apr</th>\n",
       "      <th>May</th>\n",
       "      <th>Jun</th>\n",
       "      <th>Jul</th>\n",
       "      <th>Aug</th>\n",
       "      <th>Sep</th>\n",
       "      <th>Oct</th>\n",
       "      <th>Nov</th>\n",
       "      <th>Dec</th>\n",
       "      <th>Annual</th>\n",
       "    </tr>\n",
       "  </thead>\n",
       "  <tbody>\n",
       "    <tr>\n",
       "      <th>0</th>\n",
       "      <td>1879</td>\n",
       "      <td>44.3</td>\n",
       "      <td>43.7</td>\n",
       "      <td>57.6</td>\n",
       "      <td>58.9</td>\n",
       "      <td>69.8</td>\n",
       "      <td>74.9</td>\n",
       "      <td>79.6</td>\n",
       "      <td>73.9</td>\n",
       "      <td>68.7</td>\n",
       "      <td>64.3</td>\n",
       "      <td>53.9</td>\n",
       "      <td>51.5</td>\n",
       "      <td>61.8</td>\n",
       "    </tr>\n",
       "    <tr>\n",
       "      <th>1</th>\n",
       "      <td>1880</td>\n",
       "      <td>54.3</td>\n",
       "      <td>51.4</td>\n",
       "      <td>55.5</td>\n",
       "      <td>63.4</td>\n",
       "      <td>71.0</td>\n",
       "      <td>76.5</td>\n",
       "      <td>79.2</td>\n",
       "      <td>76.8</td>\n",
       "      <td>69.4</td>\n",
       "      <td>60.8</td>\n",
       "      <td>47.2</td>\n",
       "      <td>42.1</td>\n",
       "      <td>62.3</td>\n",
       "    </tr>\n",
       "    <tr>\n",
       "      <th>2</th>\n",
       "      <td>1881</td>\n",
       "      <td>40.1</td>\n",
       "      <td>46.6</td>\n",
       "      <td>49.1</td>\n",
       "      <td>59.1</td>\n",
       "      <td>70.8</td>\n",
       "      <td>77.8</td>\n",
       "      <td>81.1</td>\n",
       "      <td>78.8</td>\n",
       "      <td>75.5</td>\n",
       "      <td>67.2</td>\n",
       "      <td>52.6</td>\n",
       "      <td>49.6</td>\n",
       "      <td>62.4</td>\n",
       "    </tr>\n",
       "    <tr>\n",
       "      <th>3</th>\n",
       "      <td>1882</td>\n",
       "      <td>48.8</td>\n",
       "      <td>52.4</td>\n",
       "      <td>57.4</td>\n",
       "      <td>64.8</td>\n",
       "      <td>66.1</td>\n",
       "      <td>76.6</td>\n",
       "      <td>75.9</td>\n",
       "      <td>75.8</td>\n",
       "      <td>71.7</td>\n",
       "      <td>65.8</td>\n",
       "      <td>51.1</td>\n",
       "      <td>41.4</td>\n",
       "      <td>62.3</td>\n",
       "    </tr>\n",
       "    <tr>\n",
       "      <th>4</th>\n",
       "      <td>1883</td>\n",
       "      <td>43.0</td>\n",
       "      <td>50.2</td>\n",
       "      <td>50.2</td>\n",
       "      <td>61.6</td>\n",
       "      <td>67.4</td>\n",
       "      <td>76.4</td>\n",
       "      <td>80.1</td>\n",
       "      <td>76.2</td>\n",
       "      <td>71.3</td>\n",
       "      <td>66.0</td>\n",
       "      <td>53.7</td>\n",
       "      <td>48.0</td>\n",
       "      <td>62.0</td>\n",
       "    </tr>\n",
       "    <tr>\n",
       "      <th>...</th>\n",
       "      <td>...</td>\n",
       "      <td>...</td>\n",
       "      <td>...</td>\n",
       "      <td>...</td>\n",
       "      <td>...</td>\n",
       "      <td>...</td>\n",
       "      <td>...</td>\n",
       "      <td>...</td>\n",
       "      <td>...</td>\n",
       "      <td>...</td>\n",
       "      <td>...</td>\n",
       "      <td>...</td>\n",
       "      <td>...</td>\n",
       "      <td>...</td>\n",
       "    </tr>\n",
       "    <tr>\n",
       "      <th>139</th>\n",
       "      <td>2018</td>\n",
       "      <td>40.4</td>\n",
       "      <td>57.3</td>\n",
       "      <td>53.5</td>\n",
       "      <td>59.8</td>\n",
       "      <td>74.8</td>\n",
       "      <td>79.8</td>\n",
       "      <td>80.8</td>\n",
       "      <td>79.7</td>\n",
       "      <td>81.0</td>\n",
       "      <td>67.4</td>\n",
       "      <td>50.3</td>\n",
       "      <td>48.6</td>\n",
       "      <td>64.5</td>\n",
       "    </tr>\n",
       "    <tr>\n",
       "      <th>140</th>\n",
       "      <td>2019</td>\n",
       "      <td>45.9</td>\n",
       "      <td>53.8</td>\n",
       "      <td>55.4</td>\n",
       "      <td>65.3</td>\n",
       "      <td>76.4</td>\n",
       "      <td>77.7</td>\n",
       "      <td>82.2</td>\n",
       "      <td>82.5</td>\n",
       "      <td>82.4</td>\n",
       "      <td>68.4</td>\n",
       "      <td>52.5</td>\n",
       "      <td>51.2</td>\n",
       "      <td>66.1</td>\n",
       "    </tr>\n",
       "    <tr>\n",
       "      <th>141</th>\n",
       "      <td>2020</td>\n",
       "      <td>49.2</td>\n",
       "      <td>49.9</td>\n",
       "      <td>61.6</td>\n",
       "      <td>61.6</td>\n",
       "      <td>68.9</td>\n",
       "      <td>76.8</td>\n",
       "      <td>82.1</td>\n",
       "      <td>80.9</td>\n",
       "      <td>73.8</td>\n",
       "      <td>67.3</td>\n",
       "      <td>58.9</td>\n",
       "      <td>46.1</td>\n",
       "      <td>64.8</td>\n",
       "    </tr>\n",
       "    <tr>\n",
       "      <th>142</th>\n",
       "      <td>2021</td>\n",
       "      <td>46.2</td>\n",
       "      <td>48.7</td>\n",
       "      <td>59.1</td>\n",
       "      <td>62.9</td>\n",
       "      <td>69.7</td>\n",
       "      <td>77.6</td>\n",
       "      <td>79.9</td>\n",
       "      <td>80.4</td>\n",
       "      <td>73.9</td>\n",
       "      <td>67.2</td>\n",
       "      <td>52.9</td>\n",
       "      <td>56.0</td>\n",
       "      <td>64.5</td>\n",
       "    </tr>\n",
       "    <tr>\n",
       "      <th>143</th>\n",
       "      <td>2022</td>\n",
       "      <td>44.5</td>\n",
       "      <td>51.7</td>\n",
       "      <td>58.1</td>\n",
       "      <td>63.2</td>\n",
       "      <td>73.9</td>\n",
       "      <td>81.1</td>\n",
       "      <td>81.6</td>\n",
       "      <td>79.5</td>\n",
       "      <td>74.7</td>\n",
       "      <td>62.4</td>\n",
       "      <td>56.6</td>\n",
       "      <td>47.5</td>\n",
       "      <td>64.6</td>\n",
       "    </tr>\n",
       "  </tbody>\n",
       "</table>\n",
       "<p>144 rows × 14 columns</p>\n",
       "</div>"
      ],
      "text/plain": [
       "     Year   Jan   Feb   Mar   Apr   May   Jun   Jul   Aug   Sep   Oct  Nov   \\\n",
       "0    1879  44.3  43.7  57.6  58.9  69.8  74.9  79.6  73.9  68.7  64.3  53.9   \n",
       "1    1880  54.3  51.4  55.5  63.4  71.0  76.5  79.2  76.8  69.4  60.8  47.2   \n",
       "2    1881  40.1  46.6  49.1  59.1  70.8  77.8  81.1  78.8  75.5  67.2  52.6   \n",
       "3    1882  48.8  52.4  57.4  64.8  66.1  76.6  75.9  75.8  71.7  65.8  51.1   \n",
       "4    1883  43.0  50.2  50.2  61.6  67.4  76.4  80.1  76.2  71.3  66.0  53.7   \n",
       "..    ...   ...   ...   ...   ...   ...   ...   ...   ...   ...   ...   ...   \n",
       "139  2018  40.4  57.3  53.5  59.8  74.8  79.8  80.8  79.7  81.0  67.4  50.3   \n",
       "140  2019  45.9  53.8  55.4  65.3  76.4  77.7  82.2  82.5  82.4  68.4  52.5   \n",
       "141  2020  49.2  49.9  61.6  61.6  68.9  76.8  82.1  80.9  73.8  67.3  58.9   \n",
       "142  2021  46.2  48.7  59.1  62.9  69.7  77.6  79.9  80.4  73.9  67.2  52.9   \n",
       "143  2022  44.5  51.7  58.1  63.2  73.9  81.1  81.6  79.5  74.7  62.4  56.6   \n",
       "\n",
       "      Dec  Annual  \n",
       "0    51.5    61.8  \n",
       "1    42.1    62.3  \n",
       "2    49.6    62.4  \n",
       "3    41.4    62.3  \n",
       "4    48.0    62.0  \n",
       "..    ...     ...  \n",
       "139  48.6    64.5  \n",
       "140  51.2    66.1  \n",
       "141  46.1    64.8  \n",
       "142  56.0    64.5  \n",
       "143  47.5    64.6  \n",
       "\n",
       "[144 rows x 14 columns]"
      ]
     },
     "execution_count": 12,
     "metadata": {},
     "output_type": "execute_result"
    }
   ],
   "source": [
    "# create dataframe from excel sheet\n",
    "# using pandas for spreadsheet\n",
    "# read Atlanta temperature data\n",
    "df=pd.read_excel('./ATL_MonMeanTemp_1879_2022.xlsx',skiprows=1)\n",
    "df # display it"
   ]
  },
  {
   "cell_type": "code",
   "execution_count": 3,
   "id": "c33eaf65",
   "metadata": {},
   "outputs": [
    {
     "name": "stdout",
     "output_type": "stream",
     "text": [
      "61.93449074074072\n",
      "61.920833333333334\n"
     ]
    }
   ],
   "source": [
    "# year\n",
    "year=df.Year\n",
    "\n",
    "# temperature of all months\n",
    "All_Month=df.iloc[:,1:13]\n",
    "All_Month\n",
    "\n",
    "# calculate annual mean from all months data\n",
    "Annual=All_Month.mean(axis=1)\n",
    "print(Annual.mean())\n",
    "print(Annual.median())"
   ]
  },
  {
   "cell_type": "code",
   "execution_count": 11,
   "id": "31135373",
   "metadata": {},
   "outputs": [
    {
     "data": {
      "text/plain": [
       "1.4372029307282717"
      ]
     },
     "execution_count": 11,
     "metadata": {},
     "output_type": "execute_result"
    }
   ],
   "source": [
    "sig"
   ]
  },
  {
   "cell_type": "code",
   "execution_count": 10,
   "id": "53a51165",
   "metadata": {},
   "outputs": [
    {
     "data": {
      "image/png": "[encoded data removed]",
      "text/plain": [
       "<Figure size 432x288 with 1 Axes>"
      ]
     },
     "metadata": {
      "needs_background": "light"
     },
     "output_type": "display_data"
    }
   ],
   "source": [
    "mu=Annual.mean()\n",
    "sig=Annual.std()\n",
    "\n",
    "dx=1.0\n",
    "bin=np.arange(56,68,dx)\n",
    "plt.hist(Annual,bin)\n",
    "plt.xlabel('temperature, deg F')\n",
    "plt.ylabel('frequency (occurrence)')\n",
    "\n",
    "x=np.arange(56,68,0.1)\n",
    "y=len(Annual)*1*1/np.sqrt(2*np.pi)/sig*np.exp(-(x-mu)**2/(2*sig**2))\n",
    "plt.plot(x,y)\n",
    "\n",
    "plt.show()\n"
   ]
  },
  {
   "cell_type": "code",
   "execution_count": 34,
   "id": "979916b7",
   "metadata": {},
   "outputs": [
    {
     "name": "stdout",
     "output_type": "stream",
     "text": [
      "104\n"
     ]
    },
    {
     "data": {
      "text/plain": [
       "0.7222222222222222"
      ]
     },
     "execution_count": 34,
     "metadata": {},
     "output_type": "execute_result"
    }
   ],
   "source": [
    "# calculate the fraction data points fall in the range of mean +- 1 s.d.\n",
    "lim_1sd_l=mu-sig\n",
    "lim_1sd_u=mu+sig\n",
    "\n",
    "ind1=np.where((Annual>=lim_1sd_l) & (Annual<lim_1sd_u))\n",
    "# \n",
    "prob1=len(ind1[0])/len(Annual)\n",
    "print(len(ind1[0]))\n",
    "# type(ind1)\n",
    "prob1"
   ]
  },
  {
   "cell_type": "code",
   "execution_count": 36,
   "id": "36ba6496",
   "metadata": {},
   "outputs": [
    {
     "name": "stdout",
     "output_type": "stream",
     "text": [
      "138\n"
     ]
    },
    {
     "data": {
      "text/plain": [
       "0.9583333333333334"
      ]
     },
     "execution_count": 36,
     "metadata": {},
     "output_type": "execute_result"
    }
   ],
   "source": [
    "# calculate the fraction data points fall in the range of mean +- 1 s.d.\n",
    "lim_2sd_l=mu-2*sig\n",
    "lim_2sd_u=mu+2*sig\n",
    "\n",
    "ind2=np.where((Annual>=lim_2sd_l) & (Annual<lim_2sd_u))\n",
    "prob2=len(ind2[0])/len(Annual)\n",
    "print(len(ind2[0]))\n",
    "prob2"
   ]
  },
  {
   "cell_type": "markdown",
   "id": "c1298939",
   "metadata": {},
   "source": [
    "## Project 2\n",
    "Roll a dice\n",
    "\n",
    "Central Limit Theorem "
   ]
  },
  {
   "cell_type": "code",
   "execution_count": 40,
   "id": "8fafc7fb",
   "metadata": {},
   "outputs": [],
   "source": [
    "# roll a dice 10 times, repeat 1,000 times\n",
    "# define parameter K and prepare an empty array for M\n",
    "K=1000\n",
    "M=np.zeros(K)\n"
   ]
  },
  {
   "cell_type": "code",
   "execution_count": 58,
   "id": "891a5015",
   "metadata": {},
   "outputs": [],
   "source": [
    "# use for loop. Use the random number generator. Store average values in M array\n",
    "for n in range(0,K):\n",
    "    roll = np.random.randint(1,7,10)\n",
    "    M[n] = np.mean(roll)\n",
    "    \n",
    "# roll"
   ]
  },
  {
   "cell_type": "code",
   "execution_count": 60,
   "id": "4f2091cf",
   "metadata": {},
   "outputs": [
    {
     "data": {
      "text/plain": [
       "Text(0, 0.5, 'frequency (occurrence)')"
      ]
     },
     "execution_count": 60,
     "metadata": {},
     "output_type": "execute_result"
    },
    {
     "data": {
      "image/png": "[encoded data removed]",
      "text/plain": [
       "<Figure size 432x288 with 1 Axes>"
      ]
     },
     "metadata": {
      "needs_background": "light"
     },
     "output_type": "display_data"
    }
   ],
   "source": [
    "# plot the sample mean distribution\n",
    "# sample mean follows Gaussian distribution\n",
    "dx=0.5\n",
    "bin=np.arange(1.5,6.0,dx)\n",
    "plt.hist(M,bin)\n",
    "plt.xlabel('Average number from dice')\n",
    "plt.ylabel('number of occurrence)')"
   ]
  },
  {
   "cell_type": "code",
   "execution_count": 62,
   "id": "8617d0dd",
   "metadata": {},
   "outputs": [
    {
     "name": "stdout",
     "output_type": "stream",
     "text": [
      "The standard deviation of M is 0.5368051322407416\n",
      "The mean of M is 3.5095\n"
     ]
    }
   ],
   "source": [
    "# calculate the statistics\n",
    "#\n",
    "sd=np.std(M)\n",
    "print('The standard deviation of M is '+str(sd))\n",
    "\n",
    "ave=np.mean(M)\n",
    "print('The mean of M is '+str(ave))"
   ]
  },
  {
   "cell_type": "markdown",
   "id": "e8f02f7e",
   "metadata": {},
   "source": [
    "## Project 3\n",
    "\n",
    "Central limit theorem\n",
    "\n",
    "Application to Atlanta's temperature data"
   ]
  },
  {
   "cell_type": "code",
   "execution_count": 64,
   "id": "56bc760b",
   "metadata": {},
   "outputs": [
    {
     "data": {
      "image/png": "[encoded data removed]",
      "text/plain": [
       "<Figure size 432x288 with 1 Axes>"
      ]
     },
     "metadata": {
      "needs_background": "light"
     },
     "output_type": "display_data"
    }
   ],
   "source": [
    "# plot time series of Annual mean\n",
    "plt.plot(year,Annual)\n",
    "plt.xlabel('Year')\n",
    "plt.ylabel('Annual mean temperature, deg F')\n",
    "plt.show()\n"
   ]
  },
  {
   "cell_type": "markdown",
   "id": "c248b21d",
   "metadata": {},
   "source": [
    "### Bootstrap: repeat sampling\n"
   ]
  },
  {
   "cell_type": "code",
   "execution_count": 65,
   "id": "3b1db754",
   "metadata": {},
   "outputs": [],
   "source": [
    "# N = 10 year random sampling\n",
    "# Repeated K=1000 times\n",
    "N=10\n",
    "K=1000\n",
    "M=np.zeros(K)\n",
    "\n",
    "for n in range(0,K):\n",
    "    data=np.random.choice(Annual,N,replace=False)\n",
    "    M[n]=np.mean(data)\n"
   ]
  },
  {
   "cell_type": "markdown",
   "id": "25bb007c",
   "metadata": {},
   "source": [
    "### 1. Mean of sample mean equals to population mean for large enough samples"
   ]
  },
  {
   "cell_type": "code",
   "execution_count": 79,
   "id": "74b944d5",
   "metadata": {},
   "outputs": [
    {
     "name": "stdout",
     "output_type": "stream",
     "text": [
      "Mean of sample mean is  61.926 deg F\n",
      "Population mean is  61.934 deg F\n"
     ]
    }
   ],
   "source": [
    "Mmean=np.mean(M)\n",
    "print(f'Mean of sample mean is {Mmean:7.5} deg F')\n",
    "popmean=np.mean(Annual)\n",
    "print(f'Population mean is {popmean:7.5} deg F')\n"
   ]
  },
  {
   "cell_type": "markdown",
   "id": "719bae06",
   "metadata": {},
   "source": [
    "### 2. Standard deviation of sample mean is standard error"
   ]
  },
  {
   "cell_type": "code",
   "execution_count": 85,
   "id": "c005e2b9",
   "metadata": {},
   "outputs": [
    {
     "name": "stdout",
     "output_type": "stream",
     "text": [
      "s.d. of sample mean is  0.436 deg F\n",
      "Standard error sigma/sqrt(N) is 0.4545 deg F\n"
     ]
    }
   ],
   "source": [
    "Msd=np.std(M)\n",
    "print(f's.d. of sample mean is {Msd:6.4} deg F')\n",
    "\n",
    "# standard error\n",
    "sig=Annual.std()\n",
    "SE=sig/np.sqrt(N)\n",
    "print(f'Standard error sigma/sqrt(N) is {SE:6.4} deg F')"
   ]
  },
  {
   "cell_type": "markdown",
   "id": "d565d65b",
   "metadata": {},
   "source": [
    "### 3. Sample mean follows a Gaussian distribution\n"
   ]
  },
  {
   "cell_type": "code",
   "execution_count": 86,
   "id": "dc695f49",
   "metadata": {},
   "outputs": [
    {
     "data": {
      "image/png": "[encoded data removed]",
      "text/plain": [
       "<Figure size 432x288 with 1 Axes>"
      ]
     },
     "metadata": {
      "needs_background": "light"
     },
     "output_type": "display_data"
    }
   ],
   "source": [
    "bins=np.arange(np.min(M),np.max(M),0.1)\n",
    "\n",
    "plt.hist(M,bins)\n",
    "plt.xlabel('Annual temperature, deg F')\n",
    "plt.ylabel('frequency');\n",
    "plt.show()"
   ]
  },
  {
   "cell_type": "code",
   "execution_count": 87,
   "id": "a53ebf1b",
   "metadata": {},
   "outputs": [
    {
     "data": {
      "image/png": "[encoded data removed]",
      "text/plain": [
       "<Figure size 432x288 with 1 Axes>"
      ]
     },
     "metadata": {
      "needs_background": "light"
     },
     "output_type": "display_data"
    }
   ],
   "source": [
    "# overlay Gaussian curve\n",
    "plt.hist(M,bins)\n",
    "x=bins\n",
    "f=K*0.1/np.sqrt(2*np.pi)/SE*np.exp(-0.5*((x-mu)/SE)**2)\n",
    "plt.plot(x,f)\n",
    "plt.xlabel('Annual temperature, deg F')\n",
    "plt.ylabel('frequency');"
   ]
  },
  {
   "cell_type": "markdown",
   "id": "8ce7ef7f",
   "metadata": {},
   "source": [
    "### Is the last decade warmer than climatological mean?"
   ]
  },
  {
   "cell_type": "code",
   "execution_count": 92,
   "id": "5f6e1c81",
   "metadata": {},
   "outputs": [
    {
     "name": "stdout",
     "output_type": "stream",
     "text": [
      "The average temperature from 1879 to 2022 is  61.934\n",
      "The average temperature of the last 10 years is  64.448\n"
     ]
    },
    {
     "data": {
      "image/png": "[encoded data removed]",
      "text/plain": [
       "<Figure size 432x288 with 1 Axes>"
      ]
     },
     "metadata": {
      "needs_background": "light"
     },
     "output_type": "display_data"
    }
   ],
   "source": [
    "# average temperature of last ten years\n",
    "T_all=np.mean(Annual)\n",
    "print(f'The average temperature from 1879 to 2022 is {T_all:7.5}')\n",
    "T_2013_2022=np.mean(Annual[-10:])\n",
    "print(f'The average temperature of the last 10 years is {T_2013_2022:7.5}')\n"
   ]
  },
  {
   "cell_type": "code",
   "execution_count": 103,
   "id": "d159c60d",
   "metadata": {},
   "outputs": [
    {
     "data": {
      "image/png": "[encoded data removed]",
      "text/plain": [
       "<Figure size 432x288 with 1 Axes>"
      ]
     },
     "metadata": {
      "needs_background": "light"
     },
     "output_type": "display_data"
    }
   ],
   "source": [
    "# plot 95 percentile and 99 percentile\n",
    "\n",
    "T95=np.percentile(M,95)\n",
    "T99=np.percentile(M,99)\n",
    "\n",
    "plt.hist(M,bins)\n",
    "x=bins\n",
    "f=K*0.1/np.sqrt(2*np.pi)/SE*np.exp(-0.5*((x-mu)/SE)**2)\n",
    "plt.plot(x,f)\n",
    "\n",
    "# add a verticle line for 95 percentile\n",
    "plt.plot(np.array([T95,T95]),np.array([0.,100.]))\n",
    "\n",
    "# add a verticle line for 99 percentile\n",
    "plt.plot(np.array([T99,T99]),np.array([0.,100.]))\n",
    "\n",
    "plt.xlabel('Annual temperature, deg F')\n",
    "plt.ylabel('frequency');"
   ]
  },
  {
   "cell_type": "code",
   "execution_count": 102,
   "id": "bbc56e8e",
   "metadata": {},
   "outputs": [
    {
     "data": {
      "text/plain": [
       "62.92349166666666"
      ]
     },
     "execution_count": 102,
     "metadata": {},
     "output_type": "execute_result"
    }
   ],
   "source": [
    "T99"
   ]
  },
  {
   "cell_type": "code",
   "execution_count": 104,
   "id": "171ee591",
   "metadata": {},
   "outputs": [
    {
     "data": {
      "image/png": "[encoded data removed]",
      "text/plain": [
       "<Figure size 432x288 with 1 Axes>"
      ]
     },
     "metadata": {
      "needs_background": "light"
     },
     "output_type": "display_data"
    }
   ],
   "source": [
    "# How does it compare with ramdomly sampled 10-year average?\n",
    "plt.hist(M,bins)\n",
    "x=bins\n",
    "f=K*0.1/np.sqrt(2*np.pi)/SE*np.exp(-0.5*((x-mu)/SE)**2)\n",
    "plt.plot(x,f)\n",
    "\n",
    "# add a verticle line for 95 percentile\n",
    "plt.plot(np.array([T95,T95]),np.array([0.,100.]))\n",
    "\n",
    "# add a verticle line for 99 percentile\n",
    "plt.plot(np.array([T99,T99]),np.array([0.,100.]))\n",
    "\n",
    "# add a verticle line for last 10-year mean\n",
    "plt.plot(np.array([T_2013_2022,T_2013_2022]),np.array([0.,100.]))\n",
    "plt.xlabel('Annual temperature, deg F')\n",
    "plt.ylabel('frequency');"
   ]
  }
 ],
 "metadata": {
  "kernelspec": {
   "display_name": "Python 3",
   "language": "python",
   "name": "python3"
  },
  "language_info": {
   "codemirror_mode": {
    "name": "ipython",
    "version": 3
   },
   "file_extension": ".py",
   "mimetype": "text/x-python",
   "name": "python",
   "nbconvert_exporter": "python",
   "pygments_lexer": "ipython3",
   "version": "3.7.6"
  }
 },
 "nbformat": 4,
 "nbformat_minor": 5
}
