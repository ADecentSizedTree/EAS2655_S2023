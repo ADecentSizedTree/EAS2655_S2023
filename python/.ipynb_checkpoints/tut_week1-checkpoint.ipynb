{
 "cells": [
  {
   "cell_type": "markdown",
   "id": "666ac038-d4f8-4f52-a1d8-b83ba56733d4",
   "metadata": {},
   "source": [
    "## Libraries"
   ]
  },
  {
   "cell_type": "code",
   "execution_count": 1,
   "id": "1b1a690c-0a1e-4ef5-b154-ba6dfd7d79e9",
   "metadata": {},
   "outputs": [],
   "source": [
    "import numpy as np\n",
    "import matplotlib.pyplot as plt"
   ]
  },
  {
   "cell_type": "markdown",
   "id": "e2ff856f-26eb-4f23-95a7-dd28d2788ef8",
   "metadata": {},
   "source": [
    "## Hello world"
   ]
  },
  {
   "cell_type": "code",
   "execution_count": 8,
   "id": "699d60d7-c342-4f71-81fe-abf1ea2871f7",
   "metadata": {},
   "outputs": [
    {
     "name": "stdout",
     "output_type": "stream",
     "text": [
      "Hello world\n"
     ]
    }
   ],
   "source": [
    "print(\"Hello world\")"
   ]
  },
  {
   "cell_type": "markdown",
   "id": "4a133ec5-9ad2-4b9a-8bb9-876730f4a6d6",
   "metadata": {
    "tags": []
   },
   "source": [
    "## Data types"
   ]
  },
  {
   "cell_type": "code",
   "execution_count": 4,
   "id": "df51b8dc-f050-49f3-9a9d-03052eee7d57",
   "metadata": {},
   "outputs": [
    {
     "data": {
      "text/plain": [
       "float"
      ]
     },
     "execution_count": 4,
     "metadata": {},
     "output_type": "execute_result"
    }
   ],
   "source": [
    "a= 10.;\n",
    "type(a)"
   ]
  },
  {
   "cell_type": "code",
   "execution_count": 3,
   "id": "8518b06a-aec8-4823-b66f-6f613326128a",
   "metadata": {},
   "outputs": [
    {
     "data": {
      "text/plain": [
       "int"
      ]
     },
     "execution_count": 3,
     "metadata": {},
     "output_type": "execute_result"
    }
   ],
   "source": [
    "a= 10;\n",
    "type(a)"
   ]
  },
  {
   "cell_type": "code",
   "execution_count": 9,
   "id": "930620ba-0098-420a-b12a-ec6f81b7fda3",
   "metadata": {},
   "outputs": [
    {
     "data": {
      "text/plain": [
       "str"
      ]
     },
     "execution_count": 9,
     "metadata": {},
     "output_type": "execute_result"
    }
   ],
   "source": [
    "type(\"hello\")"
   ]
  },
  {
   "cell_type": "code",
   "execution_count": 10,
   "id": "c3e68925-c4e0-4024-b4f5-9b6da8e9c135",
   "metadata": {},
   "outputs": [
    {
     "data": {
      "text/plain": [
       "list"
      ]
     },
     "execution_count": 10,
     "metadata": {},
     "output_type": "execute_result"
    }
   ],
   "source": [
    "a= [1,2,3,4];\n",
    "type(a)"
   ]
  },
  {
   "cell_type": "code",
   "execution_count": 12,
   "id": "22910abd-917c-4dd7-ac46-72ba76001c93",
   "metadata": {},
   "outputs": [
    {
     "data": {
      "text/plain": [
       "numpy.ndarray"
      ]
     },
     "execution_count": 12,
     "metadata": {},
     "output_type": "execute_result"
    }
   ],
   "source": [
    "a= np.array([1,2,3,4])\n",
    "type(a)"
   ]
  },
  {
   "cell_type": "markdown",
   "id": "ede94733-4c75-4469-9a9b-34f0874aa7b8",
   "metadata": {},
   "source": [
    "There are other data types such as `dictionary` and `tuple`, plus you can create your custom datatypes as well."
   ]
  },
  {
   "cell_type": "markdown",
   "id": "0c057b62-ad7b-4f2a-9fb0-58abb12a4698",
   "metadata": {},
   "source": [
    "## Lists and arrays"
   ]
  },
  {
   "cell_type": "code",
   "execution_count": 49,
   "id": "1b4ed042-64fb-44f0-8af6-19aea6157b9e",
   "metadata": {},
   "outputs": [
    {
     "data": {
      "text/plain": [
       "5"
      ]
     },
     "execution_count": 49,
     "metadata": {},
     "output_type": "execute_result"
    }
   ],
   "source": [
    "a= [1,3,4,5,2];\n",
    "len(a)"
   ]
  },
  {
   "cell_type": "code",
   "execution_count": 101,
   "id": "46a347ba-8ab7-4480-8bfb-5bfcc4bb1aaa",
   "metadata": {},
   "outputs": [
    {
     "name": "stdout",
     "output_type": "stream",
     "text": [
      "10\n",
      "(10,)\n",
      "[-5 -4 -3 -2 -1  0  1  2  3  4]\n"
     ]
    }
   ],
   "source": [
    "b= np.arange(-5,5,1)\n",
    "print(len(b))\n",
    "print(np.shape(b))\n",
    "print(b)"
   ]
  },
  {
   "cell_type": "markdown",
   "id": "1bea4f78-f427-4cfe-ab3f-01c8642227c3",
   "metadata": {},
   "source": [
    "## Control statements"
   ]
  },
  {
   "cell_type": "code",
   "execution_count": 73,
   "id": "709ee156-7347-432e-a59d-c41b28ca43b2",
   "metadata": {},
   "outputs": [],
   "source": [
    "a= 5"
   ]
  },
  {
   "cell_type": "code",
   "execution_count": 74,
   "id": "6a9a60a2-3818-4add-aaf0-a27bc9a76cb0",
   "metadata": {},
   "outputs": [
    {
     "name": "stdout",
     "output_type": "stream",
     "text": [
      "positive\n"
     ]
    }
   ],
   "source": [
    "if a < 0:\n",
    "    print(\"negative\") # mind the indents\n",
    "elif a > 0:\n",
    "    print(\"positive\")\n",
    "else:\n",
    "    print(\"zero\")"
   ]
  },
  {
   "cell_type": "code",
   "execution_count": 75,
   "id": "9b56059d-6ef8-40ad-aa4c-f38db7b3ab0d",
   "metadata": {},
   "outputs": [
    {
     "name": "stdout",
     "output_type": "stream",
     "text": [
      "5 x  0 =  0\n",
      "5 x  1 =  5\n",
      "5 x  2 =  10\n",
      "5 x  3 =  15\n",
      "5 x  4 =  20\n",
      "5 x  5 =  25\n",
      "5 x  6 =  30\n",
      "5 x  7 =  35\n",
      "5 x  8 =  40\n",
      "5 x  9 =  45\n"
     ]
    }
   ],
   "source": [
    "for i in range(10): # indents again\n",
    "    print(a, \"x \",i , \"= \", a*i)"
   ]
  },
  {
   "cell_type": "markdown",
   "id": "72a30072-10f6-4198-a65d-b9ed5a664e7f",
   "metadata": {},
   "source": [
    "You can also loop using `while` and control a loop using `break` and `continue`."
   ]
  },
  {
   "cell_type": "code",
   "execution_count": 111,
   "id": "e78f6bc7-1bd5-4cfb-a960-4bb6fa16dbaa",
   "metadata": {},
   "outputs": [
    {
     "name": "stdout",
     "output_type": "stream",
     "text": [
      "0   2\n",
      "1   3\n",
      "2   6\n",
      "3   1\n",
      "4   5\n",
      "5   8\n",
      "6   3\n"
     ]
    }
   ],
   "source": [
    "arr= [2,3,6,1,5,8,3];\n",
    "for i in np.arange(0, len(arr)): # zero based indexing\n",
    "    print(i, \" \", arr[i]) # using [] to access elements"
   ]
  },
  {
   "cell_type": "markdown",
   "id": "60baa409-0aef-40d4-a143-edfa4e2334ab",
   "metadata": {},
   "source": [
    "## Matrices"
   ]
  },
  {
   "cell_type": "markdown",
   "id": "1f0badd8-5323-4d36-b70a-7e692058e20b",
   "metadata": {},
   "source": [
    "### Some special matrices"
   ]
  },
  {
   "cell_type": "code",
   "execution_count": 112,
   "id": "ff7645e6-395d-4eae-b1d6-339b88d652ec",
   "metadata": {},
   "outputs": [
    {
     "name": "stdout",
     "output_type": "stream",
     "text": [
      "[[1. 1. 1. 1.]\n",
      " [1. 1. 1. 1.]\n",
      " [1. 1. 1. 1.]\n",
      " [1. 1. 1. 1.]\n",
      " [1. 1. 1. 1.]]\n"
     ]
    }
   ],
   "source": [
    "a1= np.ones((5,4))\n",
    "print(a1)"
   ]
  },
  {
   "cell_type": "code",
   "execution_count": 115,
   "id": "5197328b-99b9-4da3-b120-14c9eeb93b41",
   "metadata": {},
   "outputs": [
    {
     "name": "stdout",
     "output_type": "stream",
     "text": [
      "[[0. 0.]\n",
      " [0. 0.]\n",
      " [0. 0.]]\n"
     ]
    }
   ],
   "source": [
    "a0= np.zeros((3,2))\n",
    "print(a0)"
   ]
  },
  {
   "cell_type": "code",
   "execution_count": 47,
   "id": "4e41276a-b473-4512-bac2-d58382649738",
   "metadata": {},
   "outputs": [
    {
     "name": "stdout",
     "output_type": "stream",
     "text": [
      "[[1. 0. 0. 0. 0.]\n",
      " [0. 1. 0. 0. 0.]\n",
      " [0. 0. 1. 0. 0.]\n",
      " [0. 0. 0. 1. 0.]\n",
      " [0. 0. 0. 0. 1.]]\n"
     ]
    }
   ],
   "source": [
    "aI= np.identity(5)\n",
    "print(a1)"
   ]
  },
  {
   "cell_type": "code",
   "execution_count": 66,
   "id": "5e867399-9ab7-4049-89ae-a655b3299ded",
   "metadata": {},
   "outputs": [
    {
     "name": "stdout",
     "output_type": "stream",
     "text": [
      "[[0.88742519 0.72270271 0.24366212 0.20572892 0.15845909]\n",
      " [0.38795029 0.00726053 0.75111669 0.20366717 0.05337307]]\n"
     ]
    }
   ],
   "source": [
    "a= np.random.rand(2,5)\n",
    "print(a)"
   ]
  },
  {
   "cell_type": "markdown",
   "id": "32623967-1c7e-43d1-a308-6aa832d59f65",
   "metadata": {},
   "source": [
    "### Matrix operations"
   ]
  },
  {
   "cell_type": "code",
   "execution_count": 117,
   "id": "7f04e557-2deb-49ff-8898-3f85a944a639",
   "metadata": {},
   "outputs": [
    {
     "name": "stdout",
     "output_type": "stream",
     "text": [
      "Shape is (5, 4)\n"
     ]
    },
    {
     "data": {
      "text/plain": [
       "array([[0., 0., 0., 0.],\n",
       "       [0., 0., 0., 2.],\n",
       "       [0., 0., 0., 0.],\n",
       "       [0., 0., 3., 0.],\n",
       "       [0., 0., 0., 0.]])"
      ]
     },
     "execution_count": 117,
     "metadata": {},
     "output_type": "execute_result"
    }
   ],
   "source": [
    "x= np.zeros((5,4))\n",
    "x[1,3]= 2;\n",
    "x[3,2]= 3;\n",
    "print(\"Shape is\", np.shape(x))\n",
    "x"
   ]
  },
  {
   "cell_type": "code",
   "execution_count": 118,
   "id": "5d3a01ba-3518-43c3-96eb-3ca7077f7f51",
   "metadata": {},
   "outputs": [
    {
     "data": {
      "text/plain": [
       "array([[0., 0., 0., 0.],\n",
       "       [0., 0., 0., 6.],\n",
       "       [0., 0., 0., 0.],\n",
       "       [0., 0., 9., 0.],\n",
       "       [0., 0., 0., 0.]])"
      ]
     },
     "execution_count": 118,
     "metadata": {},
     "output_type": "execute_result"
    }
   ],
   "source": [
    "3*x #Scalar multiplication"
   ]
  },
  {
   "cell_type": "code",
   "execution_count": 91,
   "id": "f1dc5074-dabf-4d8b-9ffe-80c1f7bf4aec",
   "metadata": {},
   "outputs": [
    {
     "data": {
      "text/plain": [
       "array([[0., 0.],\n",
       "       [0., 2.],\n",
       "       [3., 0.],\n",
       "       [0., 5.]])"
      ]
     },
     "execution_count": 91,
     "metadata": {},
     "output_type": "execute_result"
    }
   ],
   "source": [
    "y= np.zeros((4,2))\n",
    "y[1,1]= 2;\n",
    "y[3,1]= 5;\n",
    "y[2,0]= 3;\n",
    "y"
   ]
  },
  {
   "cell_type": "markdown",
   "id": "3cb2a221-51e6-4afe-af08-c36b61938a44",
   "metadata": {},
   "source": [
    "Matrix multiplication"
   ]
  },
  {
   "cell_type": "code",
   "execution_count": 92,
   "id": "ae4c9104-c5e3-4664-a30a-525c2812b862",
   "metadata": {},
   "outputs": [
    {
     "data": {
      "text/plain": [
       "array([[ 0.,  0.],\n",
       "       [ 0., 10.],\n",
       "       [ 0.,  0.],\n",
       "       [ 9.,  0.],\n",
       "       [ 0.,  0.]])"
      ]
     },
     "execution_count": 92,
     "metadata": {},
     "output_type": "execute_result"
    }
   ],
   "source": [
    "np.matmul(x,y)"
   ]
  },
  {
   "cell_type": "code",
   "execution_count": 93,
   "id": "6d9c4a0c-b41d-411e-82b6-4713abf02c97",
   "metadata": {},
   "outputs": [
    {
     "data": {
      "text/plain": [
       "array([[ 0.,  0.],\n",
       "       [ 0., 10.],\n",
       "       [ 0.,  0.],\n",
       "       [ 9.,  0.],\n",
       "       [ 0.,  0.]])"
      ]
     },
     "execution_count": 93,
     "metadata": {},
     "output_type": "execute_result"
    }
   ],
   "source": [
    "x@y"
   ]
  },
  {
   "cell_type": "code",
   "execution_count": 123,
   "id": "4a214616-2cf3-48fe-8386-cb7ed48b09c9",
   "metadata": {},
   "outputs": [
    {
     "name": "stdout",
     "output_type": "stream",
     "text": [
      "[0.  0.1 0.2 0.3 0.4 0.5 0.6 0.7 0.8 0.9 1. ]\n",
      "[0.  0.1 0.2 0.3 0.4 0.5 0.6 0.7 0.8 0.9 1. ] [0.   0.01 0.04 0.09 0.16 0.25 0.36 0.49 0.64 0.81 1.  ]\n"
     ]
    }
   ],
   "source": [
    "x= np.arange(0,1.1,0.1)\n",
    "print(x)\n",
    "y= x*x; # Element-wise multiplication\n",
    "print(x,y)"
   ]
  },
  {
   "cell_type": "markdown",
   "id": "0520aa4f-a718-43d6-a47b-fb6242f44681",
   "metadata": {},
   "source": [
    "## Plots"
   ]
  },
  {
   "cell_type": "code",
   "execution_count": 124,
   "id": "2399e73f-20bf-4b23-8015-01c0e0d51714",
   "metadata": {},
   "outputs": [
    {
     "data": {
      "image/png": "[encoded data removed]",
      "text/plain": [
       "<Figure size 432x288 with 1 Axes>"
      ]
     },
     "metadata": {
      "needs_background": "light"
     },
     "output_type": "display_data"
    }
   ],
   "source": [
    "plt.plot(x, y);"
   ]
  },
  {
   "cell_type": "markdown",
   "id": "b86c0553-e7af-4f8c-9e73-ca631bce09d3",
   "metadata": {},
   "source": [
    "## Small hacks"
   ]
  },
  {
   "cell_type": "code",
   "execution_count": 125,
   "id": "b2acef12-1d0d-49c1-9f70-c7db45ee5b3d",
   "metadata": {},
   "outputs": [
    {
     "data": {
      "text/plain": [
       "\u001b[0;31mDocstring:\u001b[0m\n",
       "arange([start,] stop[, step,], dtype=None, *, like=None)\n",
       "\n",
       "Return evenly spaced values within a given interval.\n",
       "\n",
       "Values are generated within the half-open interval ``[start, stop)``\n",
       "(in other words, the interval including `start` but excluding `stop`).\n",
       "For integer arguments the function is equivalent to the Python built-in\n",
       "`range` function, but returns an ndarray rather than a list.\n",
       "\n",
       "When using a non-integer step, such as 0.1, the results will often not\n",
       "be consistent.  It is better to use `numpy.linspace` for these cases.\n",
       "\n",
       "Parameters\n",
       "----------\n",
       "start : integer or real, optional\n",
       "    Start of interval.  The interval includes this value.  The default\n",
       "    start value is 0.\n",
       "stop : integer or real\n",
       "    End of interval.  The interval does not include this value, except\n",
       "    in some cases where `step` is not an integer and floating point\n",
       "    round-off affects the length of `out`.\n",
       "step : integer or real, optional\n",
       "    Spacing between values.  For any output `out`, this is the distance\n",
       "    between two adjacent values, ``out[i+1] - out[i]``.  The default\n",
       "    step size is 1.  If `step` is specified as a position argument,\n",
       "    `start` must also be given.\n",
       "dtype : dtype\n",
       "    The type of the output array.  If `dtype` is not given, infer the data\n",
       "    type from the other input arguments.\n",
       "like : array_like\n",
       "    Reference object to allow the creation of arrays which are not\n",
       "    NumPy arrays. If an array-like passed in as ``like`` supports\n",
       "    the ``__array_function__`` protocol, the result will be defined\n",
       "    by it. In this case, it ensures the creation of an array object\n",
       "    compatible with that passed in via this argument.\n",
       "\n",
       "    .. versionadded:: 1.20.0\n",
       "\n",
       "Returns\n",
       "-------\n",
       "arange : ndarray\n",
       "    Array of evenly spaced values.\n",
       "\n",
       "    For floating point arguments, the length of the result is\n",
       "    ``ceil((stop - start)/step)``.  Because of floating point overflow,\n",
       "    this rule may result in the last element of `out` being greater\n",
       "    than `stop`.\n",
       "\n",
       "See Also\n",
       "--------\n",
       "numpy.linspace : Evenly spaced numbers with careful handling of endpoints.\n",
       "numpy.ogrid: Arrays of evenly spaced numbers in N-dimensions.\n",
       "numpy.mgrid: Grid-shaped arrays of evenly spaced numbers in N-dimensions.\n",
       "\n",
       "Examples\n",
       "--------\n",
       ">>> np.arange(3)\n",
       "array([0, 1, 2])\n",
       ">>> np.arange(3.0)\n",
       "array([ 0.,  1.,  2.])\n",
       ">>> np.arange(3,7)\n",
       "array([3, 4, 5, 6])\n",
       ">>> np.arange(3,7,2)\n",
       "array([3, 5])\n",
       "\u001b[0;31mType:\u001b[0m      builtin_function_or_method\n"
      ]
     },
     "metadata": {},
     "output_type": "display_data"
    }
   ],
   "source": [
    "# get help on a function\n",
    "?np.arange"
   ]
  },
  {
   "cell_type": "code",
   "execution_count": 98,
   "id": "4776442f-5c8d-4f93-abf1-16164d4517b5",
   "metadata": {},
   "outputs": [
    {
     "name": "stdout",
     "output_type": "stream",
     "text": [
      "Untitled.ipynb\n"
     ]
    }
   ],
   "source": [
    "!ls"
   ]
  },
  {
   "cell_type": "code",
   "execution_count": 99,
   "id": "9c71a46c-9e30-46eb-93f5-121da0c03ba0",
   "metadata": {},
   "outputs": [],
   "source": [
    "!mkdir folder_1"
   ]
  },
  {
   "cell_type": "code",
   "execution_count": 100,
   "id": "dd087d55-266d-4ca7-a67c-c5818f7b8832",
   "metadata": {},
   "outputs": [
    {
     "name": "stdout",
     "output_type": "stream",
     "text": [
      "Untitled.ipynb \u001b[34mfolder_1\u001b[m\u001b[m\n"
     ]
    }
   ],
   "source": [
    "!ls"
   ]
  }
 ],
 "metadata": {
  "kernelspec": {
   "display_name": "Python 3",
   "language": "python",
   "name": "python3"
  },
  "language_info": {
   "codemirror_mode": {
    "name": "ipython",
    "version": 3
   },
   "file_extension": ".py",
   "mimetype": "text/x-python",
   "name": "python",
   "nbconvert_exporter": "python",
   "pygments_lexer": "ipython3",
   "version": "3.7.6"
  }
 },
 "nbformat": 4,
 "nbformat_minor": 5
}
