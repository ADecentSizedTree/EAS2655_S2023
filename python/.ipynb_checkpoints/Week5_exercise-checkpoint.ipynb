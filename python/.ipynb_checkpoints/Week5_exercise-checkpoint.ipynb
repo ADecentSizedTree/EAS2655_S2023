{
 "cells": [
  {
   "cell_type": "code",
   "execution_count": 13,
   "id": "441d2faa",
   "metadata": {},
   "outputs": [],
   "source": [
    "import numpy as np\n",
    "from scipy import stats\n",
    "import pandas as pd\n",
    "import matplotlib.pyplot as plt\n",
    "from sklearn.linear_model import LinearRegression"
   ]
  },
  {
   "cell_type": "markdown",
   "id": "241e8c16",
   "metadata": {},
   "source": [
    "### Part 1: test if the increasing trend of atlanta temperature is statistically significant"
   ]
  },
  {
   "cell_type": "code",
   "execution_count": 4,
   "id": "a1ed2ab7",
   "metadata": {},
   "outputs": [],
   "source": [
    "# import data (with missing values)\n",
    "df=pd.read_excel('./ATL_MonMeanTemp_1879_2022_with_missing.xlsx',skiprows=1)\n",
    "# replace M with NaN\n",
    "df=df.replace('M', np.nan)\n",
    "# year\n",
    "year=df.Year\n",
    "# temperature of all months\n",
    "All_Month=df.iloc[:,1:13]\n",
    "# calculate annual mean from all months data\n",
    "Annual=All_Month.mean(axis=1,skipna=False) # as the first year data has a lot missing, here I chose to not skipping NaN\n",
    "\n"
   ]
  },
  {
   "cell_type": "code",
   "execution_count": 12,
   "id": "a27ae0ff",
   "metadata": {},
   "outputs": [
    {
     "name": "stdout",
     "output_type": "stream",
     "text": [
      "Part 1: Atlanta temperature \n",
      "Estimated based on covariance matrix:\n",
      "The temperature changes 0.017 deg F per year.\n",
      "The r value is 0.495.\n",
      "The R^2 value is 0.245.\n",
      "24.5% of the variance is explained by the linear trend.\n"
     ]
    }
   ],
   "source": [
    "# calculate the regression coefficients\n",
    "# all data (exclude missing)\n",
    "ind = ~np.isnan(Annual)\n",
    "x=np.array(year[ind])\n",
    "y=np.array(Annual[ind])\n",
    "\n",
    "# assemble the matrix [x,y]\n",
    "D=np.matrix([x,y])\n",
    "\n",
    "# calculate the covariance matrix\n",
    "c = np.cov(D)\n",
    "# calculate the regression coefficient a (slope)\n",
    "a = c[0,1]/c[0,0]\n",
    "# estimated the intercept\n",
    "b = np.mean(y) - a*np.mean(x)\n",
    "\n",
    "r2=(c[0,1]**2)/(c[0,0]*c[1,1])\n",
    "r=c[0,1]/np.sqrt(c[0,0]*c[1,1])\n",
    "\n",
    "print('Part 1: Atlanta temperature ')\n",
    "print('Estimated based on covariance matrix:');\n",
    "print(f'The temperature changes {a:4.3} deg F per year.');\n",
    "print(f'The r value is {r:4.3}.');\n",
    "print(f'The R^2 value is {r2:4.3}.');\n",
    "print(f'{r2*100:4.3}% of the variance is explained by the linear trend.');\n",
    "\n"
   ]
  },
  {
   "cell_type": "code",
   "execution_count": 19,
   "id": "0bdd70fe",
   "metadata": {},
   "outputs": [
    {
     "name": "stdout",
     "output_type": "stream",
     "text": [
      "coefficient of determination: 0.245\n",
      "intercept: 28.7\n",
      "slope: [0.01704462]\n"
     ]
    }
   ],
   "source": [
    "# validate using python built-in linear regression\n",
    "x1=x.reshape(-1, 1)\n",
    "y1=y            \n",
    "model = LinearRegression().fit(x1, y1)\n",
    "r_sq = model.score(x1, y1)\n",
    "print(f\"coefficient of determination: {r_sq:4.3}\")\n",
    "print(f\"intercept: {model.intercept_:4.3}\")\n",
    "print(f\"slope: {model.coef_}\")"
   ]
  },
  {
   "cell_type": "code",
   "execution_count": 20,
   "id": "8ddf7da9",
   "metadata": {},
   "outputs": [
    {
     "data": {
      "image/png": "[encoded data removed]",
      "text/plain": [
       "<Figure size 432x288 with 1 Axes>"
      ]
     },
     "metadata": {
      "needs_background": "light"
     },
     "output_type": "display_data"
    }
   ],
   "source": [
    "# make a plot\n",
    "plt.plot(year,Annual,'.',label='data') # plot the data\n",
    "plt.plot(x,a*x+b,'-',label='fitted line') # plot the fitting line\n",
    "\n",
    "plt.xlabel('Year')\n",
    "plt.ylabel('Temperature ($^{\\circ}$F)')\n",
    "plt.title('Atlanta, annual temperature');\n",
    "plt.legend()\n",
    "plt.show()"
   ]
  },
  {
   "cell_type": "markdown",
   "id": "2f55e718",
   "metadata": {},
   "source": [
    "### Statistical significance of regression coefficient (slope) \n",
    "Procedure\n",
    "1. Select confidence level\n",
    "2. State null hypothesis and alternative hypothesis\n",
    "3. State statistics used\n",
    "4. Determine critical region\n",
    "5. Evaluate whether data rejects the null hypothesis"
   ]
  },
  {
   "cell_type": "code",
   "execution_count": 22,
   "id": "03ae8002",
   "metadata": {},
   "outputs": [],
   "source": [
    "# 1. Select confidence level\n",
    "CL=0.99"
   ]
  },
  {
   "cell_type": "code",
   "execution_count": 23,
   "id": "e3e57809",
   "metadata": {},
   "outputs": [],
   "source": [
    "# 2. State null hypothesis and alternative hypothesis\n",
    "# H0: The regression coefficient is NOT significantly larger than 0. \n",
    "# H1: The regression coefficient is significantly larger than 0. "
   ]
  },
  {
   "cell_type": "code",
   "execution_count": 24,
   "id": "9feb8a52",
   "metadata": {},
   "outputs": [],
   "source": [
    "# 3. State statistics used\n",
    "# Student’s t-distribution will be used with one-tailed test."
   ]
  },
  {
   "cell_type": "code",
   "execution_count": 37,
   "id": "ae8f5f31",
   "metadata": {},
   "outputs": [
    {
     "name": "stdout",
     "output_type": "stream",
     "text": [
      "Degrees of freedom = 142\n",
      "Critical t value = 2.35\n"
     ]
    }
   ],
   "source": [
    "# 4. Determine critical region\n",
    "# degrees of freedom\n",
    "N=np.size(Annual[ind])\n",
    "df=N-2\n",
    "print(f'Degrees of freedom = {df}')\n",
    "\n",
    "# critical t value\n",
    "alpha=1-CL\n",
    "tcrit=stats.t.ppf(1-alpha,df) # one tailed test \n",
    "# as df>>30, we could also use normal distribution\n",
    "# tcrit=stats.norm.ppf(1-alpha) # one tailed test\n",
    "print(f'Critical t value = {tcrit:4.3}') "
   ]
  },
  {
   "cell_type": "code",
   "execution_count": 44,
   "id": "8bd32d36",
   "metadata": {},
   "outputs": [
    {
     "name": "stdout",
     "output_type": "stream",
     "text": [
      "Mean square error = 1.57\n",
      "Standard error of slope = 0.00251\n",
      "t value = 6.78\n"
     ]
    }
   ],
   "source": [
    "# 5. Evaluate whether data rejects the null hypothesis\n",
    "\n",
    "ind = ~np.isnan(Annual)\n",
    "x=np.array(year[ind])\n",
    "y=np.array(Annual[ind])\n",
    "\n",
    "y_est=a*x+b\n",
    "# calculate the MSE\n",
    "MSE=sum((y-y_est)**2)/(N-2)\n",
    "print(f'Mean square error = {MSE:4.3}') \n",
    "\n",
    "# calculate SE\n",
    "SE=np.sqrt(MSE/sum((x-np.mean(x))**2))\n",
    "print(f'Standard error of slope = {SE:4.3}') \n",
    "\n",
    "# calculate t-value \n",
    "t_val=a/SE\n",
    "print(f't value = {t_val:4.3}') "
   ]
  },
  {
   "cell_type": "markdown",
   "id": "fe56d2d9",
   "metadata": {},
   "source": [
    "### Report the confidence interval for regression coefficient"
   ]
  },
  {
   "cell_type": "code",
   "execution_count": 51,
   "id": "bdd1227d",
   "metadata": {},
   "outputs": [
    {
     "name": "stdout",
     "output_type": "stream",
     "text": [
      "95% confidence interval of the regression coefficient (slope) a is 0.017 +- 0.00497\n"
     ]
    }
   ],
   "source": [
    "CL=0.95 # 95% confidence level\n",
    "\n",
    "N=np.size(Annual[ind])\n",
    "df=N-2\n",
    "\n",
    "alpha=1-CL\n",
    "tcrit=stats.t.ppf(1-alpha/2,df) # two-tailed\n",
    "\n",
    "# confidence interval: a +- tcrit*SE\n",
    "\n",
    "print(f'95% confidence interval of the regression coefficient (slope) a is {a:5.3} +- {tcrit*SE:4.3}') "
   ]
  },
  {
   "cell_type": "code",
   "execution_count": 52,
   "id": "474c6ffe",
   "metadata": {},
   "outputs": [
    {
     "data": {
      "text/plain": [
       "1.9768109936200895"
      ]
     },
     "execution_count": 52,
     "metadata": {},
     "output_type": "execute_result"
    }
   ],
   "source": [
    "tcrit"
   ]
  },
  {
   "cell_type": "code",
   "execution_count": null,
   "id": "ee25f2e2",
   "metadata": {},
   "outputs": [],
   "source": []
  }
 ],
 "metadata": {
  "kernelspec": {
   "display_name": "Python 3",
   "language": "python",
   "name": "python3"
  },
  "language_info": {
   "codemirror_mode": {
    "name": "ipython",
    "version": 3
   },
   "file_extension": ".py",
   "mimetype": "text/x-python",
   "name": "python",
   "nbconvert_exporter": "python",
   "pygments_lexer": "ipython3",
   "version": "3.7.6"
  }
 },
 "nbformat": 4,
 "nbformat_minor": 5
}
