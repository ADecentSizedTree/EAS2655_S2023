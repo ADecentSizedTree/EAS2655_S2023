{
 "cells": [
  {
   "cell_type": "code",
   "execution_count": 13,
   "id": "12ec5730",
   "metadata": {},
   "outputs": [],
   "source": [
    "import numpy as np\n",
    "from scipy import stats\n",
    "import pandas as pd\n",
    "import matplotlib.pyplot as plt\n",
    "from sklearn.linear_model import LinearRegression"
   ]
  },
  {
   "cell_type": "markdown",
   "id": "774cadf7",
   "metadata": {},
   "source": [
    "### Part 1: test if the increasing trend of atlanta temperature is statistically significant"
   ]
  },
  {
   "cell_type": "code",
   "execution_count": 4,
   "id": "99e56122",
   "metadata": {},
   "outputs": [],
   "source": [
    "# import data (with missing values)\n",
    "df=pd.read_excel('./ATL_MonMeanTemp_1879_2022_with_missing.xlsx',skiprows=1)\n",
    "# replace M with NaN\n",
    "df=df.replace('M', np.nan)\n",
    "# year\n",
    "year=df.Year\n",
    "# temperature of all months\n",
    "All_Month=df.iloc[:,1:13]\n",
    "# calculate annual mean from all months data\n",
    "Annual=All_Month.mean(axis=1,skipna=False) # as the first year data has a lot missing, here I chose to not skipping NaN\n",
    "\n"
   ]
  },
  {
   "cell_type": "code",
   "execution_count": 12,
   "id": "a406d811",
   "metadata": {},
   "outputs": [
    {
     "name": "stdout",
     "output_type": "stream",
     "text": [
      "Part 1: Atlanta temperature \n",
      "Estimated based on covariance matrix:\n",
      "The temperature changes 0.017 deg F per year.\n",
      "The r value is 0.495.\n",
      "The R^2 value is 0.245.\n",
      "24.5% of the variance is explained by the linear trend.\n"
     ]
    }
   ],
   "source": [
    "# calculate the regression coefficients\n",
    "# all data (exclude missing)\n",
    "ind = ~np.isnan(Annual)\n",
    "x=np.array(year[ind])\n",
    "y=np.array(Annual[ind])\n",
    "\n",
    "# assemble the matrix [x,y]\n",
    "D=np.matrix([x,y])\n",
    "\n",
    "# calculate the covariance matrix\n",
    "c = np.cov(D)\n",
    "# calculate the regression coefficient a (slope)\n",
    "a = c[0,1]/c[0,0]\n",
    "# estimated the intercept\n",
    "b = np.mean(y) - a*np.mean(x)\n",
    "\n",
    "r2=(c[0,1]**2)/(c[0,0]*c[1,1])\n",
    "r=c[0,1]/np.sqrt(c[0,0]*c[1,1])\n",
    "\n",
    "print('Part 1: Atlanta temperature ')\n",
    "print('Estimated based on covariance matrix:');\n",
    "print(f'The temperature changes {a:4.3} deg F per year.');\n",
    "print(f'The r value is {r:4.3}.');\n",
    "print(f'The R^2 value is {r2:4.3}.');\n",
    "print(f'{r2*100:4.3}% of the variance is explained by the linear trend.');\n",
    "\n"
   ]
  },
  {
   "cell_type": "code",
   "execution_count": 19,
   "id": "9f5aff8c",
   "metadata": {},
   "outputs": [
    {
     "name": "stdout",
     "output_type": "stream",
     "text": [
      "coefficient of determination: 0.245\n",
      "intercept: 28.7\n",
      "slope: [0.01704462]\n"
     ]
    }
   ],
   "source": [
    "# validate using python built-in linear regression\n",
    "x1=x.reshape(-1, 1)\n",
    "y1=y            \n",
    "model = LinearRegression().fit(x1, y1)\n",
    "r_sq = model.score(x1, y1)\n",
    "print(f\"coefficient of determination: {r_sq:4.3}\")\n",
    "print(f\"intercept: {model.intercept_:4.3}\")\n",
    "print(f\"slope: {model.coef_}\")"
   ]
  },
  {
   "cell_type": "code",
   "execution_count": 20,
   "id": "ada6adb6",
   "metadata": {},
   "outputs": [
    {
     "data": {
      "image/png": "[encoded data removed]",
      "text/plain": [
       "<Figure size 432x288 with 1 Axes>"
      ]
     },
     "metadata": {
      "needs_background": "light"
     },
     "output_type": "display_data"
    }
   ],
   "source": [
    "# make a plot\n",
    "plt.plot(year,Annual,'.',label='data') # plot the data\n",
    "plt.plot(x,a*x+b,'-',label='fitted line') # plot the fitting line\n",
    "\n",
    "plt.xlabel('Year')\n",
    "plt.ylabel('Temperature ($^{\\circ}$F)')\n",
    "plt.title('Atlanta, annual temperature');\n",
    "plt.legend()\n",
    "plt.show()"
   ]
  },
  {
   "cell_type": "markdown",
   "id": "78e22123",
   "metadata": {},
   "source": [
    "### Statistical significance of regression coefficient (slope) \n",
    "Procedure\n",
    "1. Select confidence level\n",
    "2. State null hypothesis and alternative hypothesis\n",
    "3. State statistics used\n",
    "4. Determine critical region\n",
    "5. Evaluate whether data rejects the null hypothesis"
   ]
  },
  {
   "cell_type": "code",
   "execution_count": 22,
   "id": "b32e62a8",
   "metadata": {},
   "outputs": [],
   "source": [
    "# 1. Select confidence level\n",
    "CL=0.99"
   ]
  },
  {
   "cell_type": "code",
   "execution_count": 23,
   "id": "16e976c0",
   "metadata": {},
   "outputs": [],
   "source": [
    "# 2. State null hypothesis and alternative hypothesis\n",
    "# H0: The regression coefficient is NOT significantly larger than 0. \n",
    "# H1: The regression coefficient is significantly larger than 0. "
   ]
  },
  {
   "cell_type": "code",
   "execution_count": 24,
   "id": "ae7f99de",
   "metadata": {},
   "outputs": [],
   "source": [
    "# 3. State statistics used\n",
    "# Student’s t-distribution will be used with one-tailed test."
   ]
  },
  {
   "cell_type": "code",
   "execution_count": 37,
   "id": "716f2597",
   "metadata": {},
   "outputs": [
    {
     "name": "stdout",
     "output_type": "stream",
     "text": [
      "Degrees of freedom = 142\n",
      "Critical t value = 2.35\n"
     ]
    }
   ],
   "source": [
    "# 4. Determine critical region\n",
    "# degrees of freedom\n",
    "N=np.size(Annual[ind])\n",
    "df=N-2\n",
    "print(f'Degrees of freedom = {df}')\n",
    "\n",
    "# critical t value\n",
    "alpha=1-CL\n",
    "tcrit=stats.t.ppf(1-alpha,df) # one tailed test \n",
    "# as df>>30, we could also use normal distribution\n",
    "# tcrit=stats.norm.ppf(1-alpha) # one tailed test\n",
    "print(f'Critical t value = {tcrit:4.3}') "
   ]
  },
  {
   "cell_type": "code",
   "execution_count": 44,
   "id": "731c1881",
   "metadata": {},
   "outputs": [
    {
     "name": "stdout",
     "output_type": "stream",
     "text": [
      "Mean square error = 1.57\n",
      "Standard error of slope = 0.00251\n",
      "t value = 6.78\n"
     ]
    }
   ],
   "source": [
    "# 5. Evaluate whether data rejects the null hypothesis\n",
    "\n",
    "ind = ~np.isnan(Annual)\n",
    "x=np.array(year[ind])\n",
    "y=np.array(Annual[ind])\n",
    "\n",
    "y_est=a*x+b\n",
    "# calculate the MSE\n",
    "MSE=sum((y-y_est)**2)/(N-2)\n",
    "print(f'Mean square error = {MSE:4.3}') \n",
    "\n",
    "# calculate SE\n",
    "SE=np.sqrt(MSE/sum((x-np.mean(x))**2))\n",
    "print(f'Standard error of slope = {SE:4.3}') \n",
    "\n",
    "# calculate t-value \n",
    "t_val=a/SE\n",
    "print(f't value = {t_val:4.3}') "
   ]
  },
  {
   "cell_type": "markdown",
   "id": "a2038d2b",
   "metadata": {},
   "source": [
    "### Report the confidence interval for regression coefficient"
   ]
  },
  {
   "cell_type": "code",
   "execution_count": 51,
   "id": "2946e6d8",
   "metadata": {},
   "outputs": [
    {
     "name": "stdout",
     "output_type": "stream",
     "text": [
      "95% confidence interval of the regression coefficient (slope) a is 0.017 +- 0.00497\n"
     ]
    }
   ],
   "source": [
    "CL=0.95 # 95% confidence level\n",
    "\n",
    "N=np.size(Annual[ind])\n",
    "df=N-2\n",
    "\n",
    "alpha=1-CL\n",
    "tcrit=stats.t.ppf(1-alpha/2,df) # two-tailed\n",
    "\n",
    "# confidence interval: a +- tcrit*SE\n",
    "\n",
    "print(f'95% confidence interval of the regression coefficient (slope) a is {a:5.3} +- {tcrit*SE:4.3}') "
   ]
  },
  {
   "cell_type": "code",
   "execution_count": 52,
   "id": "ca54c3f5",
   "metadata": {},
   "outputs": [
    {
     "data": {
      "text/plain": [
       "1.9768109936200895"
      ]
     },
     "execution_count": 52,
     "metadata": {},
     "output_type": "execute_result"
    }
   ],
   "source": [
    "tcrit"
   ]
  },
  {
   "cell_type": "markdown",
   "id": "3f3884de",
   "metadata": {},
   "source": [
    "### Test if february temperatures in ATL and SEA are significantly anti-correlated"
   ]
  },
  {
   "cell_type": "code",
   "execution_count": 53,
   "id": "46726959",
   "metadata": {},
   "outputs": [],
   "source": [
    "# % import data (replace missing values with NaN)\n",
    "\n",
    "# Atlanta, GA\n",
    "df1=pd.read_excel('./temperature_four_cities.xlsx',sheet_name='ATL').replace('M', np.nan)\n",
    "# Boston, MA\n",
    "df2=pd.read_excel('./temperature_four_cities.xlsx',sheet_name='BOS').replace('M', np.nan)\n",
    "# San Francisco, CA\n",
    "df3=pd.read_excel('./temperature_four_cities.xlsx',sheet_name='SFO').replace('M', np.nan)\n",
    "# Seattle, WA\n",
    "df4=pd.read_excel('./temperature_four_cities.xlsx',sheet_name='SEA').replace('M', np.nan)"
   ]
  },
  {
   "cell_type": "code",
   "execution_count": 54,
   "id": "5e955808",
   "metadata": {},
   "outputs": [
    {
     "data": {
      "text/html": [
       "<div>\n",
       "<style scoped>\n",
       "    .dataframe tbody tr th:only-of-type {\n",
       "        vertical-align: middle;\n",
       "    }\n",
       "\n",
       "    .dataframe tbody tr th {\n",
       "        vertical-align: top;\n",
       "    }\n",
       "\n",
       "    .dataframe thead th {\n",
       "        text-align: right;\n",
       "    }\n",
       "</style>\n",
       "<table border=\"1\" class=\"dataframe\">\n",
       "  <thead>\n",
       "    <tr style=\"text-align: right;\">\n",
       "      <th></th>\n",
       "      <th>ATL</th>\n",
       "      <th>BOS</th>\n",
       "      <th>SFO</th>\n",
       "      <th>SEA</th>\n",
       "    </tr>\n",
       "    <tr>\n",
       "      <th>Year</th>\n",
       "      <th></th>\n",
       "      <th></th>\n",
       "      <th></th>\n",
       "      <th></th>\n",
       "    </tr>\n",
       "  </thead>\n",
       "  <tbody>\n",
       "    <tr>\n",
       "      <th>1894</th>\n",
       "      <td>45.0</td>\n",
       "      <td>26.8</td>\n",
       "      <td>48.4</td>\n",
       "      <td>38.2</td>\n",
       "    </tr>\n",
       "    <tr>\n",
       "      <th>1895</th>\n",
       "      <td>34.4</td>\n",
       "      <td>25.4</td>\n",
       "      <td>53.8</td>\n",
       "      <td>44.7</td>\n",
       "    </tr>\n",
       "    <tr>\n",
       "      <th>1896</th>\n",
       "      <td>45.4</td>\n",
       "      <td>28.6</td>\n",
       "      <td>55.3</td>\n",
       "      <td>44.9</td>\n",
       "    </tr>\n",
       "    <tr>\n",
       "      <th>1897</th>\n",
       "      <td>47.7</td>\n",
       "      <td>30.9</td>\n",
       "      <td>50.7</td>\n",
       "      <td>42.2</td>\n",
       "    </tr>\n",
       "    <tr>\n",
       "      <th>1898</th>\n",
       "      <td>43.1</td>\n",
       "      <td>32.8</td>\n",
       "      <td>52.7</td>\n",
       "      <td>45.6</td>\n",
       "    </tr>\n",
       "    <tr>\n",
       "      <th>...</th>\n",
       "      <td>...</td>\n",
       "      <td>...</td>\n",
       "      <td>...</td>\n",
       "      <td>...</td>\n",
       "    </tr>\n",
       "    <tr>\n",
       "      <th>2018</th>\n",
       "      <td>57.3</td>\n",
       "      <td>38.1</td>\n",
       "      <td>55.5</td>\n",
       "      <td>41.4</td>\n",
       "    </tr>\n",
       "    <tr>\n",
       "      <th>2019</th>\n",
       "      <td>53.8</td>\n",
       "      <td>33.5</td>\n",
       "      <td>50.3</td>\n",
       "      <td>36.6</td>\n",
       "    </tr>\n",
       "    <tr>\n",
       "      <th>2020</th>\n",
       "      <td>49.9</td>\n",
       "      <td>37.8</td>\n",
       "      <td>56.4</td>\n",
       "      <td>43.6</td>\n",
       "    </tr>\n",
       "    <tr>\n",
       "      <th>2021</th>\n",
       "      <td>48.7</td>\n",
       "      <td>30.8</td>\n",
       "      <td>54.2</td>\n",
       "      <td>41.6</td>\n",
       "    </tr>\n",
       "    <tr>\n",
       "      <th>2022</th>\n",
       "      <td>51.7</td>\n",
       "      <td>33.1</td>\n",
       "      <td>55.8</td>\n",
       "      <td>42.8</td>\n",
       "    </tr>\n",
       "  </tbody>\n",
       "</table>\n",
       "<p>129 rows × 4 columns</p>\n",
       "</div>"
      ],
      "text/plain": [
       "       ATL   BOS   SFO   SEA\n",
       "Year                        \n",
       "1894  45.0  26.8  48.4  38.2\n",
       "1895  34.4  25.4  53.8  44.7\n",
       "1896  45.4  28.6  55.3  44.9\n",
       "1897  47.7  30.9  50.7  42.2\n",
       "1898  43.1  32.8  52.7  45.6\n",
       "...    ...   ...   ...   ...\n",
       "2018  57.3  38.1  55.5  41.4\n",
       "2019  53.8  33.5  50.3  36.6\n",
       "2020  49.9  37.8  56.4  43.6\n",
       "2021  48.7  30.8  54.2  41.6\n",
       "2022  51.7  33.1  55.8  42.8\n",
       "\n",
       "[129 rows x 4 columns]"
      ]
     },
     "execution_count": 54,
     "metadata": {},
     "output_type": "execute_result"
    }
   ],
   "source": [
    "# year\n",
    "year=df1.Year\n",
    "T_feb1=df1.Feb\n",
    "T_feb2=df2.Feb\n",
    "T_feb3=df3.Feb\n",
    "T_feb4=df4.Feb\n",
    "\n",
    "# combine data into the same dataframe\n",
    "T_feb = pd.concat([T_feb1,T_feb2,T_feb3,T_feb4],axis=1)\n",
    "T_feb.columns=['ATL','BOS','SFO','SEA']\n",
    "\n",
    "# assign year as index\n",
    "T_feb.index=year\n",
    "T_feb"
   ]
  },
  {
   "cell_type": "code",
   "execution_count": 55,
   "id": "efca93f8",
   "metadata": {},
   "outputs": [
    {
     "name": "stdout",
     "output_type": "stream",
     "text": [
      "Correlation matrix:\n",
      "          ATL       BOS       SFO       SEA\n",
      "ATL  1.000000  0.573895 -0.129840 -0.273386\n",
      "BOS  0.573895  1.000000  0.000725 -0.000619\n",
      "SFO -0.129840  0.000725  1.000000  0.644721\n",
      "SEA -0.273386 -0.000619  0.644721  1.000000\n"
     ]
    },
    {
     "data": {
      "text/html": [
       "<div>\n",
       "<style scoped>\n",
       "    .dataframe tbody tr th:only-of-type {\n",
       "        vertical-align: middle;\n",
       "    }\n",
       "\n",
       "    .dataframe tbody tr th {\n",
       "        vertical-align: top;\n",
       "    }\n",
       "\n",
       "    .dataframe thead th {\n",
       "        text-align: right;\n",
       "    }\n",
       "</style>\n",
       "<table border=\"1\" class=\"dataframe\">\n",
       "  <thead>\n",
       "    <tr style=\"text-align: right;\">\n",
       "      <th></th>\n",
       "      <th>ATL</th>\n",
       "      <th>BOS</th>\n",
       "      <th>SFO</th>\n",
       "      <th>SEA</th>\n",
       "    </tr>\n",
       "  </thead>\n",
       "  <tbody>\n",
       "    <tr>\n",
       "      <th>ATL</th>\n",
       "      <td>1.000000</td>\n",
       "      <td>0.573895</td>\n",
       "      <td>-0.129840</td>\n",
       "      <td>-0.273386</td>\n",
       "    </tr>\n",
       "    <tr>\n",
       "      <th>BOS</th>\n",
       "      <td>0.573895</td>\n",
       "      <td>1.000000</td>\n",
       "      <td>0.000725</td>\n",
       "      <td>-0.000619</td>\n",
       "    </tr>\n",
       "    <tr>\n",
       "      <th>SFO</th>\n",
       "      <td>-0.129840</td>\n",
       "      <td>0.000725</td>\n",
       "      <td>1.000000</td>\n",
       "      <td>0.644721</td>\n",
       "    </tr>\n",
       "    <tr>\n",
       "      <th>SEA</th>\n",
       "      <td>-0.273386</td>\n",
       "      <td>-0.000619</td>\n",
       "      <td>0.644721</td>\n",
       "      <td>1.000000</td>\n",
       "    </tr>\n",
       "  </tbody>\n",
       "</table>\n",
       "</div>"
      ],
      "text/plain": [
       "          ATL       BOS       SFO       SEA\n",
       "ATL  1.000000  0.573895 -0.129840 -0.273386\n",
       "BOS  0.573895  1.000000  0.000725 -0.000619\n",
       "SFO -0.129840  0.000725  1.000000  0.644721\n",
       "SEA -0.273386 -0.000619  0.644721  1.000000"
      ]
     },
     "execution_count": 55,
     "metadata": {},
     "output_type": "execute_result"
    }
   ],
   "source": [
    "# calculation of covariance and correlation\n",
    "T_feb=T_feb.dropna()\n",
    "# correlation matrix\n",
    "r_mat=T_feb.corr()\n",
    "print('Correlation matrix:')\n",
    "print(r_mat)\n",
    "r_mat"
   ]
  },
  {
   "cell_type": "code",
   "execution_count": 58,
   "id": "29e47431",
   "metadata": {},
   "outputs": [
    {
     "data": {
      "image/png": "[encoded data removed]",
      "text/plain": [
       "<Figure size 432x288 with 1 Axes>"
      ]
     },
     "metadata": {
      "needs_background": "light"
     },
     "output_type": "display_data"
    }
   ],
   "source": [
    "# correlation plot\n",
    "# atlanta vs. Seattle\n",
    "plt.plot(T_feb.ATL,T_feb.SEA,'s')\n",
    "plt.xlabel('ATL temperature (deg F)')\n",
    "plt.ylabel('SEA temperature (deg F)')\n",
    "plt.title('February');\n",
    "plt.show()"
   ]
  },
  {
   "cell_type": "markdown",
   "id": "4bc24eeb",
   "metadata": {},
   "source": [
    "### Statistical significance of correlation\n",
    "\n",
    "From above analysis, we can see Feb temperatures in ATL and SEA are anticorrelated (r = -0.27)\n",
    "Is it statistically significant?\n",
    "\n",
    "Procedure\n",
    "\n",
    "1. Select confidence level\n",
    "2. State null hypothesis and alternative hypothesis\n",
    "3. State statistics used\n",
    "4. Determine critical region\n",
    "5. Evaluate whether data rejects the null hypothesis"
   ]
  },
  {
   "cell_type": "code",
   "execution_count": 86,
   "id": "e0b867a0",
   "metadata": {},
   "outputs": [],
   "source": [
    "# 1. Select confidence level\n",
    "CL=0.95"
   ]
  },
  {
   "cell_type": "code",
   "execution_count": null,
   "id": "3416f686",
   "metadata": {},
   "outputs": [],
   "source": [
    "# 2. State null hypothesis and alternative hypothesis\n",
    "# H0: There is NO significant negative correlation between ATL and SEA Feb temperature\n",
    "# H1: There is a significant negative correlation\n"
   ]
  },
  {
   "cell_type": "code",
   "execution_count": 60,
   "id": "366e3ec4",
   "metadata": {},
   "outputs": [],
   "source": [
    "# 3. State statistics used\n",
    "# Student’s t-distribution with one-tailed test\n"
   ]
  },
  {
   "cell_type": "code",
   "execution_count": 87,
   "id": "fb83d1d6",
   "metadata": {},
   "outputs": [
    {
     "data": {
      "text/plain": [
       "1.6570369819845607"
      ]
     },
     "execution_count": 87,
     "metadata": {},
     "output_type": "execute_result"
    }
   ],
   "source": [
    "# 4. Determine critical region\n",
    "N=len(T_feb)\n",
    "df=N-2\n",
    "\n",
    "# critical t value\n",
    "alpha=1-CL\n",
    "tcrit=stats.t.ppf(1-alpha,df) # one tailed test (as we already know the correlation is negative)\n",
    "\n",
    "tcrit"
   ]
  },
  {
   "cell_type": "code",
   "execution_count": 93,
   "id": "d413cb6e",
   "metadata": {},
   "outputs": [
    {
     "name": "stdout",
     "output_type": "stream",
     "text": [
      "r = -0.273\n",
      "R^2 = 0.0747\n",
      "SE = 0.0857\n",
      "t value = 3.19\n",
      "t > tcrit, H0 is rejected\n",
      "There is a significant negative correlation between ATL and SEA february temperature at 95% (and 99%) confidence level\n"
     ]
    }
   ],
   "source": [
    "# 5. Evaluate whether data rejects the null hypothesis\n",
    "\n",
    "r=r_mat.iloc[0,3]\n",
    "print(f'r = {r:4.3}')\n",
    "print(f'R^2 = {r**2:4.3}')\n",
    "SE=np.sqrt((1-r**2)/(N-2))\n",
    "print(f'SE = {SE:4.3}')\n",
    "\n",
    "t_val=abs(r)/SE\n",
    "print(f't value = {t_val:4.3}')\n",
    "\n",
    "print(f't > tcrit, H0 is rejected')\n",
    "print(f'There is a significant negative correlation between ATL and SEA february temperature at 95% (and 99%) confidence level')"
   ]
  },
  {
   "cell_type": "markdown",
   "id": "0438e699",
   "metadata": {},
   "source": [
    "### Part 3: In class exercise: Test the correlation for any two-city combinations"
   ]
  },
  {
   "cell_type": "code",
   "execution_count": 94,
   "id": "6a39ec8d",
   "metadata": {},
   "outputs": [],
   "source": [
    "# 1. Select confidence level\n",
    "CL=0.95 # confidence level\n",
    "alpha=1-CL"
   ]
  },
  {
   "cell_type": "code",
   "execution_count": null,
   "id": "9cad3c91",
   "metadata": {},
   "outputs": [],
   "source": [
    "# 2. State null hypothesis and alternative hypothesis\n",
    "# H0: There is NO significant correlation between two cities\n",
    "# H1: There is a significant correlation"
   ]
  },
  {
   "cell_type": "code",
   "execution_count": null,
   "id": "4fb93471",
   "metadata": {},
   "outputs": [],
   "source": [
    "# 3. State statistics used\n",
    "# What statistics should we use? One-tailed or two-tailed?"
   ]
  },
  {
   "cell_type": "code",
   "execution_count": null,
   "id": "34e350df",
   "metadata": {},
   "outputs": [],
   "source": [
    "# 4. Determine critical region\n",
    "# What is the tcrit value?"
   ]
  },
  {
   "cell_type": "code",
   "execution_count": null,
   "id": "d5a7c61e",
   "metadata": {},
   "outputs": [],
   "source": [
    "# 5. Evaluate whether data rejects the null hypothesis\n",
    "# How do we calculate the t-value (Hint: use the correlation coefficient matrix)?\n"
   ]
  }
 ],
 "metadata": {
  "kernelspec": {
   "display_name": "Python 3",
   "language": "python",
   "name": "python3"
  },
  "language_info": {
   "codemirror_mode": {
    "name": "ipython",
    "version": 3
   },
   "file_extension": ".py",
   "mimetype": "text/x-python",
   "name": "python",
   "nbconvert_exporter": "python",
   "pygments_lexer": "ipython3",
   "version": "3.7.6"
  }
 },
 "nbformat": 4,
 "nbformat_minor": 5
}
