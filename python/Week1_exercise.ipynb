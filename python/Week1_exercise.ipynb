{
 "cells": [
  {
   "cell_type": "markdown",
   "id": "22a530bc",
   "metadata": {},
   "source": [
    "# EAS 2655 Week 1 exercise"
   ]
  },
  {
   "cell_type": "code",
   "execution_count": 1,
   "id": "2eaee4a6",
   "metadata": {},
   "outputs": [],
   "source": [
    "# import libraries\n",
    "import pandas as pd\n",
    "import numpy as np\n",
    "import matplotlib.pyplot as plt"
   ]
  },
  {
   "cell_type": "code",
   "execution_count": 2,
   "id": "f8f52bbd",
   "metadata": {},
   "outputs": [
    {
     "data": {
      "text/html": [
       "<div>\n",
       "<style scoped>\n",
       "    .dataframe tbody tr th:only-of-type {\n",
       "        vertical-align: middle;\n",
       "    }\n",
       "\n",
       "    .dataframe tbody tr th {\n",
       "        vertical-align: top;\n",
       "    }\n",
       "\n",
       "    .dataframe thead th {\n",
       "        text-align: right;\n",
       "    }\n",
       "</style>\n",
       "<table border=\"1\" class=\"dataframe\">\n",
       "  <thead>\n",
       "    <tr style=\"text-align: right;\">\n",
       "      <th></th>\n",
       "      <th>Year</th>\n",
       "      <th>Jan</th>\n",
       "      <th>Feb</th>\n",
       "      <th>Mar</th>\n",
       "      <th>Apr</th>\n",
       "      <th>May</th>\n",
       "      <th>Jun</th>\n",
       "      <th>Jul</th>\n",
       "      <th>Aug</th>\n",
       "      <th>Sep</th>\n",
       "      <th>Oct</th>\n",
       "      <th>Nov</th>\n",
       "      <th>Dec</th>\n",
       "      <th>Annual</th>\n",
       "    </tr>\n",
       "  </thead>\n",
       "  <tbody>\n",
       "    <tr>\n",
       "      <th>0</th>\n",
       "      <td>1879</td>\n",
       "      <td>44.3</td>\n",
       "      <td>43.7</td>\n",
       "      <td>57.6</td>\n",
       "      <td>58.9</td>\n",
       "      <td>69.8</td>\n",
       "      <td>74.9</td>\n",
       "      <td>79.6</td>\n",
       "      <td>73.9</td>\n",
       "      <td>68.7</td>\n",
       "      <td>64.3</td>\n",
       "      <td>53.9</td>\n",
       "      <td>51.5</td>\n",
       "      <td>61.8</td>\n",
       "    </tr>\n",
       "    <tr>\n",
       "      <th>1</th>\n",
       "      <td>1880</td>\n",
       "      <td>54.3</td>\n",
       "      <td>51.4</td>\n",
       "      <td>55.5</td>\n",
       "      <td>63.4</td>\n",
       "      <td>71.0</td>\n",
       "      <td>76.5</td>\n",
       "      <td>79.2</td>\n",
       "      <td>76.8</td>\n",
       "      <td>69.4</td>\n",
       "      <td>60.8</td>\n",
       "      <td>47.2</td>\n",
       "      <td>42.1</td>\n",
       "      <td>62.3</td>\n",
       "    </tr>\n",
       "    <tr>\n",
       "      <th>2</th>\n",
       "      <td>1881</td>\n",
       "      <td>40.1</td>\n",
       "      <td>46.6</td>\n",
       "      <td>49.1</td>\n",
       "      <td>59.1</td>\n",
       "      <td>70.8</td>\n",
       "      <td>77.8</td>\n",
       "      <td>81.1</td>\n",
       "      <td>78.8</td>\n",
       "      <td>75.5</td>\n",
       "      <td>67.2</td>\n",
       "      <td>52.6</td>\n",
       "      <td>49.6</td>\n",
       "      <td>62.4</td>\n",
       "    </tr>\n",
       "    <tr>\n",
       "      <th>3</th>\n",
       "      <td>1882</td>\n",
       "      <td>48.8</td>\n",
       "      <td>52.4</td>\n",
       "      <td>57.4</td>\n",
       "      <td>64.8</td>\n",
       "      <td>66.1</td>\n",
       "      <td>76.6</td>\n",
       "      <td>75.9</td>\n",
       "      <td>75.8</td>\n",
       "      <td>71.7</td>\n",
       "      <td>65.8</td>\n",
       "      <td>51.1</td>\n",
       "      <td>41.4</td>\n",
       "      <td>62.3</td>\n",
       "    </tr>\n",
       "    <tr>\n",
       "      <th>4</th>\n",
       "      <td>1883</td>\n",
       "      <td>43.0</td>\n",
       "      <td>50.2</td>\n",
       "      <td>50.2</td>\n",
       "      <td>61.6</td>\n",
       "      <td>67.4</td>\n",
       "      <td>76.4</td>\n",
       "      <td>80.1</td>\n",
       "      <td>76.2</td>\n",
       "      <td>71.3</td>\n",
       "      <td>66.0</td>\n",
       "      <td>53.7</td>\n",
       "      <td>48.0</td>\n",
       "      <td>62.0</td>\n",
       "    </tr>\n",
       "    <tr>\n",
       "      <th>...</th>\n",
       "      <td>...</td>\n",
       "      <td>...</td>\n",
       "      <td>...</td>\n",
       "      <td>...</td>\n",
       "      <td>...</td>\n",
       "      <td>...</td>\n",
       "      <td>...</td>\n",
       "      <td>...</td>\n",
       "      <td>...</td>\n",
       "      <td>...</td>\n",
       "      <td>...</td>\n",
       "      <td>...</td>\n",
       "      <td>...</td>\n",
       "      <td>...</td>\n",
       "    </tr>\n",
       "    <tr>\n",
       "      <th>139</th>\n",
       "      <td>2018</td>\n",
       "      <td>40.4</td>\n",
       "      <td>57.3</td>\n",
       "      <td>53.5</td>\n",
       "      <td>59.8</td>\n",
       "      <td>74.8</td>\n",
       "      <td>79.8</td>\n",
       "      <td>80.8</td>\n",
       "      <td>79.7</td>\n",
       "      <td>81.0</td>\n",
       "      <td>67.4</td>\n",
       "      <td>50.3</td>\n",
       "      <td>48.6</td>\n",
       "      <td>64.5</td>\n",
       "    </tr>\n",
       "    <tr>\n",
       "      <th>140</th>\n",
       "      <td>2019</td>\n",
       "      <td>45.9</td>\n",
       "      <td>53.8</td>\n",
       "      <td>55.4</td>\n",
       "      <td>65.3</td>\n",
       "      <td>76.4</td>\n",
       "      <td>77.7</td>\n",
       "      <td>82.2</td>\n",
       "      <td>82.5</td>\n",
       "      <td>82.4</td>\n",
       "      <td>68.4</td>\n",
       "      <td>52.5</td>\n",
       "      <td>51.2</td>\n",
       "      <td>66.1</td>\n",
       "    </tr>\n",
       "    <tr>\n",
       "      <th>141</th>\n",
       "      <td>2020</td>\n",
       "      <td>49.2</td>\n",
       "      <td>49.9</td>\n",
       "      <td>61.6</td>\n",
       "      <td>61.6</td>\n",
       "      <td>68.9</td>\n",
       "      <td>76.8</td>\n",
       "      <td>82.1</td>\n",
       "      <td>80.9</td>\n",
       "      <td>73.8</td>\n",
       "      <td>67.3</td>\n",
       "      <td>58.9</td>\n",
       "      <td>46.1</td>\n",
       "      <td>64.8</td>\n",
       "    </tr>\n",
       "    <tr>\n",
       "      <th>142</th>\n",
       "      <td>2021</td>\n",
       "      <td>46.2</td>\n",
       "      <td>48.7</td>\n",
       "      <td>59.1</td>\n",
       "      <td>62.9</td>\n",
       "      <td>69.7</td>\n",
       "      <td>77.6</td>\n",
       "      <td>79.9</td>\n",
       "      <td>80.4</td>\n",
       "      <td>73.9</td>\n",
       "      <td>67.2</td>\n",
       "      <td>52.9</td>\n",
       "      <td>56.0</td>\n",
       "      <td>64.5</td>\n",
       "    </tr>\n",
       "    <tr>\n",
       "      <th>143</th>\n",
       "      <td>2022</td>\n",
       "      <td>44.5</td>\n",
       "      <td>51.7</td>\n",
       "      <td>58.1</td>\n",
       "      <td>63.2</td>\n",
       "      <td>73.9</td>\n",
       "      <td>81.1</td>\n",
       "      <td>81.6</td>\n",
       "      <td>79.5</td>\n",
       "      <td>74.7</td>\n",
       "      <td>62.4</td>\n",
       "      <td>56.6</td>\n",
       "      <td>47.5</td>\n",
       "      <td>64.6</td>\n",
       "    </tr>\n",
       "  </tbody>\n",
       "</table>\n",
       "<p>144 rows × 14 columns</p>\n",
       "</div>"
      ],
      "text/plain": [
       "     Year   Jan   Feb   Mar   Apr   May   Jun   Jul   Aug   Sep   Oct  Nov   \\\n",
       "0    1879  44.3  43.7  57.6  58.9  69.8  74.9  79.6  73.9  68.7  64.3  53.9   \n",
       "1    1880  54.3  51.4  55.5  63.4  71.0  76.5  79.2  76.8  69.4  60.8  47.2   \n",
       "2    1881  40.1  46.6  49.1  59.1  70.8  77.8  81.1  78.8  75.5  67.2  52.6   \n",
       "3    1882  48.8  52.4  57.4  64.8  66.1  76.6  75.9  75.8  71.7  65.8  51.1   \n",
       "4    1883  43.0  50.2  50.2  61.6  67.4  76.4  80.1  76.2  71.3  66.0  53.7   \n",
       "..    ...   ...   ...   ...   ...   ...   ...   ...   ...   ...   ...   ...   \n",
       "139  2018  40.4  57.3  53.5  59.8  74.8  79.8  80.8  79.7  81.0  67.4  50.3   \n",
       "140  2019  45.9  53.8  55.4  65.3  76.4  77.7  82.2  82.5  82.4  68.4  52.5   \n",
       "141  2020  49.2  49.9  61.6  61.6  68.9  76.8  82.1  80.9  73.8  67.3  58.9   \n",
       "142  2021  46.2  48.7  59.1  62.9  69.7  77.6  79.9  80.4  73.9  67.2  52.9   \n",
       "143  2022  44.5  51.7  58.1  63.2  73.9  81.1  81.6  79.5  74.7  62.4  56.6   \n",
       "\n",
       "      Dec  Annual  \n",
       "0    51.5    61.8  \n",
       "1    42.1    62.3  \n",
       "2    49.6    62.4  \n",
       "3    41.4    62.3  \n",
       "4    48.0    62.0  \n",
       "..    ...     ...  \n",
       "139  48.6    64.5  \n",
       "140  51.2    66.1  \n",
       "141  46.1    64.8  \n",
       "142  56.0    64.5  \n",
       "143  47.5    64.6  \n",
       "\n",
       "[144 rows x 14 columns]"
      ]
     },
     "execution_count": 2,
     "metadata": {},
     "output_type": "execute_result"
    }
   ],
   "source": [
    "# create dataframe from excel sheet\n",
    "# using pandas for spreadsheet\n",
    "df=pd.read_excel('./ATL_MonMeanTemp_1879_2022.xlsx',skiprows=1)\n",
    "df # display it"
   ]
  },
  {
   "cell_type": "code",
   "execution_count": 3,
   "id": "bd4ff517",
   "metadata": {},
   "outputs": [
    {
     "name": "stdout",
     "output_type": "stream",
     "text": [
      "61.93449074074072\n",
      "61.920833333333334\n"
     ]
    }
   ],
   "source": [
    "# year\n",
    "year=df.Year\n",
    "\n",
    "# August temperature\n",
    "AUG=df.iloc[:,8]\n",
    "AUG\n",
    "\n",
    "# temperature of all months\n",
    "All_Month=df.iloc[:,1:13]\n",
    "All_Month\n",
    "\n",
    "# calculate annual mean from all months data\n",
    "Annual=All_Month.mean(axis=1)\n",
    "print(Annual.mean())\n",
    "print(Annual.median())\n"
   ]
  },
  {
   "cell_type": "code",
   "execution_count": 4,
   "id": "3a255070",
   "metadata": {},
   "outputs": [
    {
     "data": {
      "image/png": "[encoded data removed]",
      "text/plain": [
       "<Figure size 432x288 with 1 Axes>"
      ]
     },
     "metadata": {
      "needs_background": "light"
     },
     "output_type": "display_data"
    },
    {
     "name": "stdout",
     "output_type": "stream",
     "text": [
      "The average August temperature in Atlanta is 78.36 deg F\n"
     ]
    }
   ],
   "source": [
    "# let's plot the August temperature as a function of time\n",
    "plt.plot(year,AUG)\n",
    "plt.xlabel('Year')\n",
    "plt.ylabel('Temperature, deg F')\n",
    "plt.show()\n",
    "AUGave=AUG.mean()\n",
    "AUGave\n",
    "print('The average August temperature in Atlanta is '+str(round(AUGave,2))+' deg F')"
   ]
  },
  {
   "cell_type": "code",
   "execution_count": 5,
   "id": "fb30439c",
   "metadata": {},
   "outputs": [
    {
     "data": {
      "image/png": "[encoded data removed]",
      "text/plain": [
       "<Figure size 432x288 with 1 Axes>"
      ]
     },
     "metadata": {
      "needs_background": "light"
     },
     "output_type": "display_data"
    }
   ],
   "source": [
    "# next, let's plot the histogram\n",
    "bin=np.arange(73,88,1)\n",
    "plt.hist(AUG,bin)\n",
    "plt.xlabel('Aug temperature, deg F')\n",
    "plt.ylabel('frequency (occurrence)')\n",
    "plt.show()\n"
   ]
  },
  {
   "cell_type": "code",
   "execution_count": 7,
   "id": "f5911618",
   "metadata": {},
   "outputs": [
    {
     "data": {
      "image/png": "[encoded data removed]",
      "text/plain": [
       "<Figure size 432x288 with 1 Axes>"
      ]
     },
     "metadata": {
      "needs_background": "light"
     },
     "output_type": "display_data"
    }
   ],
   "source": [
    "AUGsd=AUG.std()\n",
    "AUGsd\n",
    "\n",
    "bin=np.arange(71,88,1)\n",
    "plt.hist(AUG,bin)\n",
    "plt.xlabel('temperature, deg F')\n",
    "plt.ylabel('frequency (occurrence)')\n",
    "\n",
    "mu=AUGave\n",
    "sig=AUGsd\n",
    "x=np.arange(71,88,0.1)\n",
    "y=144*1*1/np.sqrt(2*np.pi)/sig*np.exp(-(x-mu)**2/(2*sig**2))\n",
    "plt.plot(x,y)\n",
    "\n",
    "plt.show()\n"
   ]
  },
  {
   "cell_type": "code",
   "execution_count": 42,
   "id": "acb6720d",
   "metadata": {},
   "outputs": [
    {
     "data": {
      "image/png": "[encoded data removed]",
      "text/plain": [
       "<Figure size 432x288 with 1 Axes>"
      ]
     },
     "metadata": {
      "needs_background": "light"
     },
     "output_type": "display_data"
    }
   ],
   "source": [
    "# let's make a box plot for Aug\n",
    "plt.boxplot(AUG)\n",
    "plt.ylabel('Temperature (deg F)')\n",
    "plt.xlabel('Aug')\n",
    "plt.show()"
   ]
  },
  {
   "cell_type": "code",
   "execution_count": 32,
   "id": "54b64df9",
   "metadata": {},
   "outputs": [
    {
     "data": {
      "image/png": "[encoded data removed]",
      "text/plain": [
       "<Figure size 432x288 with 1 Axes>"
      ]
     },
     "metadata": {
      "needs_background": "light"
     },
     "output_type": "display_data"
    }
   ],
   "source": [
    "# let's make a box plot\n",
    "plt.boxplot(All_Month)\n",
    "plt.ylabel('Temperature (deg F)')\n",
    "plt.xlabel('Month')\n",
    "plt.show()"
   ]
  },
  {
   "cell_type": "code",
   "execution_count": null,
   "id": "26ebf736",
   "metadata": {},
   "outputs": [],
   "source": []
  }
 ],
 "metadata": {
  "kernelspec": {
   "display_name": "Python 3",
   "language": "python",
   "name": "python3"
  },
  "language_info": {
   "codemirror_mode": {
    "name": "ipython",
    "version": 3
   },
   "file_extension": ".py",
   "mimetype": "text/x-python",
   "name": "python",
   "nbconvert_exporter": "python",
   "pygments_lexer": "ipython3",
   "version": "3.7.6"
  }
 },
 "nbformat": 4,
 "nbformat_minor": 5
}
